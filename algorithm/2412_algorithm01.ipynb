{
 "cells": [
  {
   "cell_type": "code",
   "execution_count": null,
   "metadata": {},
   "outputs": [
    {
     "ename": "KeyboardInterrupt",
     "evalue": "",
     "output_type": "error",
     "traceback": [
      "\u001b[0;31m---------------------------------------------------------------------------\u001b[0m",
      "\u001b[0;31mKeyboardInterrupt\u001b[0m                         Traceback (most recent call last)",
      "Cell \u001b[0;32mIn[2], line 10\u001b[0m\n\u001b[1;32m      7\u001b[0m     \u001b[38;5;28;01mfor\u001b[39;00m \u001b[38;5;28mmin\u001b[39m \u001b[38;5;129;01min\u001b[39;00m \u001b[38;5;28mrange\u001b[39m(\u001b[38;5;241m59\u001b[39m\u001b[38;5;241m+\u001b[39m\u001b[38;5;241m1\u001b[39m):\n\u001b[1;32m      8\u001b[0m         \u001b[38;5;28;01mfor\u001b[39;00m second \u001b[38;5;129;01min\u001b[39;00m \u001b[38;5;28mrange\u001b[39m(\u001b[38;5;241m59\u001b[39m\u001b[38;5;241m+\u001b[39m\u001b[38;5;241m1\u001b[39m):\n\u001b[1;32m      9\u001b[0m             \u001b[38;5;66;03m# 3이 들어있으면 카운트 늘리기\u001b[39;00m\n\u001b[0;32m---> 10\u001b[0m             \u001b[38;5;28;01mif\u001b[39;00m \u001b[38;5;124m'\u001b[39m\u001b[38;5;124m3\u001b[39m\u001b[38;5;124m'\u001b[39m \u001b[38;5;129;01min\u001b[39;00m \u001b[38;5;28;43mstr\u001b[39;49m\u001b[43m(\u001b[49m\u001b[43mh\u001b[49m\u001b[43m)\u001b[49m\u001b[43m \u001b[49m\u001b[38;5;241;43m+\u001b[39;49m\u001b[43m \u001b[49m\u001b[38;5;28;43mstr\u001b[39;49m\u001b[43m(\u001b[49m\u001b[38;5;28;43mmin\u001b[39;49m\u001b[43m)\u001b[49m \u001b[38;5;241m+\u001b[39m \u001b[38;5;28mstr\u001b[39m(second):\n\u001b[1;32m     11\u001b[0m                 count \u001b[38;5;241m+\u001b[39m\u001b[38;5;241m=\u001b[39m \u001b[38;5;241m1\u001b[39m\n\u001b[1;32m     13\u001b[0m \u001b[38;5;28mprint\u001b[39m(count)\n",
      "\u001b[0;31mKeyboardInterrupt\u001b[0m: "
     ]
    }
   ],
   "source": [
    "# Hour 입력\n",
    "\n",
    "hour = int(input())\n",
    "\n",
    "count = 0 \n",
    "for h in range(hour + 1):\n",
    "    for m in range(59+1):\n",
    "        for sec in range(59+1):\n",
    "            # 3이 들어있으면 카운트 늘리기\n",
    "            if '3' in str(h) + str(m) + str(sec):\n",
    "                count += 1\n",
    "\n",
    "print(count)\n"
   ]
  },
  {
   "cell_type": "code",
   "execution_count": null,
   "metadata": {},
   "outputs": [],
   "source": [
    "# 스택\n",
    "# .append()\n",
    "# .pop()\n",
    "\n",
    "# 큐 -> collections 모듈\n",
    "from collections import deque\n",
    "# 덱. \n",
    "# .popleft\n",
    "# .append()\n",
    "# .reverse() 역순으로 바꾸기"
   ]
  },
  {
   "cell_type": "code",
   "execution_count": 3,
   "metadata": {},
   "outputs": [
    {
     "name": "stdout",
     "output_type": "stream",
     "text": [
      "스택: [1]\n",
      "큐: deque([2])\n"
     ]
    }
   ],
   "source": [
    "from collections import deque\n",
    "\n",
    "# 스택 예제\n",
    "def stack_example():\n",
    "    stack = []\n",
    "    stack.append(1)  # 추가\n",
    "    stack.append(2)\n",
    "    stack.pop()      # 제거\n",
    "    return stack\n",
    "\n",
    "# 큐 예제\n",
    "def queue_example():\n",
    "    queue = deque()\n",
    "    queue.append(1)   # 추가\n",
    "    queue.append(2)\n",
    "    queue.popleft()   # 왼쪽에서 제거\n",
    "    return queue\n",
    "\n",
    "# 사용 예시\n",
    "print(\"스택:\", stack_example())\n",
    "print(\"큐:\", queue_example())"
   ]
  },
  {
   "cell_type": "code",
   "execution_count": null,
   "metadata": {},
   "outputs": [],
   "source": []
  }
 ],
 "metadata": {
  "kernelspec": {
   "display_name": "yeardream",
   "language": "python",
   "name": "python3"
  },
  "language_info": {
   "codemirror_mode": {
    "name": "ipython",
    "version": 3
   },
   "file_extension": ".py",
   "mimetype": "text/x-python",
   "name": "python",
   "nbconvert_exporter": "python",
   "pygments_lexer": "ipython3",
   "version": "3.9.19"
  }
 },
 "nbformat": 4,
 "nbformat_minor": 2
}
